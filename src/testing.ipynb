{
 "cells": [
  {
   "cell_type": "code",
   "execution_count": 1,
   "id": "initial_id",
   "metadata": {
    "collapsed": true,
    "ExecuteTime": {
     "end_time": "2024-03-07T19:51:36.198215Z",
     "start_time": "2024-03-07T19:51:35.198714Z"
    }
   },
   "outputs": [],
   "source": [
    "from langchain.memory import ConversationBufferMemory\n",
    "from langchain.chains import ConversationalRetrievalChain\n",
    "\n",
    "from langchain_community.vectorstores import Pinecone as PineconeStore\n",
    "from langchain_openai import OpenAIEmbeddings\n",
    "import os\n",
    "import json\n",
    "\n",
    "with open(\"../config.json\") as config_file:\n",
    "    config = json.load(config_file)\n",
    "    \n",
    "os.environ['OPENAI_API_KEY'] = config['openai']['api_key']\n",
    "os.environ['PINECONE_API_KEY'] = config['pinecone']['api_key']"
   ]
  },
  {
   "cell_type": "code",
   "outputs": [
    {
     "data": {
      "text/plain": "VectorStoreRetriever(tags=['Pinecone', 'OpenAIEmbeddings'], vectorstore=<langchain_community.vectorstores.pinecone.Pinecone object at 0x11eb25f50>)"
     },
     "execution_count": 2,
     "metadata": {},
     "output_type": "execute_result"
    }
   ],
   "source": [
    "from src.sources.vector_db import retriever\n",
    "retriever"
   ],
   "metadata": {
    "collapsed": false,
    "ExecuteTime": {
     "end_time": "2024-03-07T19:51:37.786173Z",
     "start_time": "2024-03-07T19:51:36.198259Z"
    }
   },
   "id": "22e3fb5bf82ba33a",
   "execution_count": 2
  },
  {
   "cell_type": "code",
   "outputs": [],
   "source": [
    "from src.chatbot.chat import answer_with_context\n",
    "\n",
    "answer = answer_with_context(\"Zmiana kierunku studiów\")"
   ],
   "metadata": {
    "collapsed": false,
    "ExecuteTime": {
     "end_time": "2024-03-07T19:51:48.018848Z",
     "start_time": "2024-03-07T19:51:37.785017Z"
    }
   },
   "id": "6088e33189f90428",
   "execution_count": 3
  },
  {
   "cell_type": "code",
   "outputs": [
    {
     "data": {
      "text/plain": "Document(page_content='studiów nie jest dopuszczalne . \\n10. Po przeniesieniu  się z innej uczelni  albo zmianie kierunku studiów  w ramach AGH  w systemie USOS  \\nnależy odnotować:  \\n1) dotychczasową nazwę wydziału (uczelni) i kierunku studiów oraz datę przeniesienia;  \\n2) zaliczone tam moduły zajęć  wraz z przyporządkowanymi im punktami ECTS,  a uznane przez \\nDziekan a Wydziału  przyjmującego na zasadach określonych  w § 12 ust. 8, oraz łączną liczbę \\npunktów ECTS uzyskaną do chwili przeniesienia;  \\n3) urlopy  od zajęć  i powtarzane okresy studiów.  \\n11. Dziekan  Wydziału  przyjmującego może określić szczegółowe warunki  i zasady zmiany uczelni bądź \\nkierunku studiów , w szczególności  w zakresie min imalnej średniej  ocen. \\n12. Student  w uzasadnionych przypadkach jeden raz na każdym stopniu studiów może ubiegać się  \\no zmianę formy studiów . W tym przypadku postanowienia ust. 1 -11 stosuje się odpowiednio.  \\n13. Zmiana formy studiów wraz  z dopuszczalnym łącznym deficytem punktów def P K jest dopuszczalna  \\nw przypadku przeniesienia ze studiów stacjonarnych na studia niestacjonarne w ramach tego samego \\nkierunku studiów , poziomu  i profilu.   \\n \\n§ 24. NAGRODY , WYRÓŻNIENIA , KARY', metadata={'page': 27.0, 'source': 'https://www.cok.agh.edu.pl/home/cok/Regulamin_studiow_AGH/2023_RS_t.j..pdf'})"
     },
     "execution_count": 6,
     "metadata": {},
     "output_type": "execute_result"
    }
   ],
   "source": [
    "answer['context'][0]"
   ],
   "metadata": {
    "collapsed": false,
    "ExecuteTime": {
     "end_time": "2024-03-07T19:52:14.148538Z",
     "start_time": "2024-03-07T19:52:14.144248Z"
    }
   },
   "id": "17c050d846ebc5a7",
   "execution_count": 6
  },
  {
   "cell_type": "code",
   "outputs": [],
   "source": [
    "\n",
    "\n",
    "\n",
    "\n",
    "\n",
    "\n",
    "\n"
   ],
   "metadata": {
    "collapsed": false,
    "ExecuteTime": {
     "end_time": "2024-03-07T19:51:48.025284Z",
     "start_time": "2024-03-07T19:51:48.023217Z"
    }
   },
   "id": "f0aa0f206188822c",
   "execution_count": 4
  }
 ],
 "metadata": {
  "kernelspec": {
   "display_name": "Python 3",
   "language": "python",
   "name": "python3"
  },
  "language_info": {
   "codemirror_mode": {
    "name": "ipython",
    "version": 2
   },
   "file_extension": ".py",
   "mimetype": "text/x-python",
   "name": "python",
   "nbconvert_exporter": "python",
   "pygments_lexer": "ipython2",
   "version": "2.7.6"
  }
 },
 "nbformat": 4,
 "nbformat_minor": 5
}
